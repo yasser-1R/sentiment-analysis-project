{
  "nbformat": 4,
  "nbformat_minor": 0,
  "metadata": {
    "colab": {
      "provenance": [],
      "collapsed_sections": [
        "ih5bb65I6ueO",
        "tqpkxqCJro0r",
        "ey5r-l11bPBx",
        "fajk1EsXcKvg",
        "PdQCAmvJcium",
        "IHr1-_ZY7Cdo",
        "0841f91d",
        "QtTgTq7kcjUP",
        "sAdwR2GddjRu",
        "XpDeYmpilI6N",
        "b5a93376",
        "4lHIXjr6oW5x",
        "cvZlESV_rm7m",
        "xdSlamspyd-Y",
        "OfxZuTGOy-BV",
        "-aWy6otT0LoZ",
        "QoBYdrVl0eAc",
        "BZ-1yV8r1U6A",
        "UOw95w201lPr"
      ]
    },
    "kernelspec": {
      "name": "python3",
      "display_name": "Python 3"
    },
    "language_info": {
      "name": "python"
    }
  },
  "cells": [
    {
      "cell_type": "markdown",
      "metadata": {
        "id": "ih5bb65I6ueO"
      },
      "source": [
        "# Set up : normal , normal_balanced , preprocessed , preprocessed_balanced"
      ]
    },
    {
      "cell_type": "markdown",
      "source": [
        "### **All Libraries**"
      ],
      "metadata": {
        "id": "tqpkxqCJro0r"
      }
    },
    {
      "cell_type": "code",
      "source": [
        "# Data Handling\n",
        "import pandas as pd\n",
        "\n",
        "# Text Vectorization\n",
        "from sklearn.feature_extraction.text import TfidfVectorizer\n",
        "\n",
        "# Model Training & Splitting\n",
        "from sklearn.model_selection import train_test_split\n",
        "\n",
        "# Models\n",
        "from sklearn.naive_bayes import MultinomialNB, ComplementNB\n",
        "from sklearn.svm import SVC, NuSVC\n",
        "from sklearn.linear_model import LogisticRegression\n",
        "from sklearn.ensemble import RandomForestClassifier, AdaBoostClassifier\n",
        "from sklearn.neighbors import KNeighborsClassifier\n",
        "\n",
        "# Evaluation Metrics\n",
        "from sklearn.metrics import confusion_matrix\n",
        "\n",
        "# Visualization\n",
        "import matplotlib.pyplot as plt\n",
        "import seaborn as sns\n",
        "\n",
        "# Timing Execution\n",
        "import time\n"
      ],
      "metadata": {
        "id": "5MHTEEy_ighD"
      },
      "execution_count": 31,
      "outputs": []
    },
    {
      "cell_type": "markdown",
      "source": [
        "### **Preparation du fichier / Analyse**"
      ],
      "metadata": {
        "id": "ey5r-l11bPBx"
      }
    },
    {
      "cell_type": "code",
      "source": [
        "import pandas as pd\n",
        "\n",
        "# Load the TSV file with UTF-8 encoding\n",
        "df = pd.read_csv('LABR_RAW.csv', encoding='utf-8')\n",
        "\n",
        "# Rename the columns\n",
        "df.columns = [\"Label\", \"Column1\", \"Column2\", \"Column3\",\"Text\"]\n",
        "\n",
        "# Keep only the 'Text' and 'Label' columns\n",
        "df = df[['Label','Text']]"
      ],
      "metadata": {
        "id": "LrP5XS9ufysg"
      },
      "execution_count": 32,
      "outputs": []
    },
    {
      "cell_type": "code",
      "source": [
        "# Find the number of duplicate rows based on the 'Text' column\n",
        "duplicates_count = df.duplicated(subset=\"Text\").sum()\n",
        "\n",
        "# Remove duplicate rows based on the 'Text' column\n",
        "df = df.drop_duplicates(subset=\"Text\", keep=\"first\")\n",
        "\n",
        "# Print the results\n",
        "print(f\"{duplicates_count} duplicate rows were deleted.\")"
      ],
      "metadata": {
        "colab": {
          "base_uri": "https://localhost:8080/"
        },
        "id": "28ZcEJKef7S7",
        "outputId": "68ca46aa-c289-40a6-b4ba-8f188b2e0b3b"
      },
      "execution_count": 33,
      "outputs": [
        {
          "output_type": "stream",
          "name": "stdout",
          "text": [
            "3167 duplicate rows were deleted.\n"
          ]
        }
      ]
    },
    {
      "cell_type": "code",
      "source": [
        "import matplotlib.pyplot as plt\n",
        "import pandas as pd\n",
        "\n",
        "# Count sentiment occurrences\n",
        "sentiment_counts = df[\"Label\"].value_counts()\n",
        "print(\"Sentiment Distribution:\\n\", sentiment_counts)\n",
        "\n",
        "# Define a list of colors for the 5 ratings\n",
        "colors = [\"blue\", \"orange\", \"green\", \"red\", \"purple\"]\n",
        "\n",
        "# Bar Chart\n",
        "ax = sentiment_counts.plot(kind=\"bar\", color=colors)\n",
        "plt.title(\"Sentiment Distribution in LABR Dataset\")\n",
        "\n",
        "# Add the exact number on top of each bar\n",
        "for i, v in enumerate(sentiment_counts):\n",
        "    ax.text(i, v + 0.05, str(v), ha='center', va='bottom', fontsize=10)  # Adjust vertical position (v + 0.05) if needed\n",
        "\n",
        "#plt.savefig(\"bar_chart.png\")\n",
        "plt.show()\n",
        "\n",
        "# Pie Chart\n",
        "sentiment_counts.plot(kind=\"pie\", autopct=\"%1.1f%%\", colors=colors)\n",
        "plt.title(\"Sentiment Distribution (Pie Chart)\")\n",
        "plt.ylabel(\"\")\n",
        "#plt.savefig(\"pie_chart.png\")\n",
        "print(\"\\n\")\n",
        "plt.show()\n"
      ],
      "metadata": {
        "colab": {
          "base_uri": "https://localhost:8080/",
          "height": 0
        },
        "id": "L6-P5cZzgDx8",
        "outputId": "19e2dde0-4c1a-42c1-8bdb-d45e8497b22f"
      },
      "execution_count": 34,
      "outputs": [
        {
          "output_type": "stream",
          "name": "stdout",
          "text": [
            "Sentiment Distribution:\n",
            " Label\n",
            "5    22404\n",
            "4    18124\n",
            "3    11680\n",
            "2     5056\n",
            "1     2825\n",
            "Name: count, dtype: int64\n"
          ]
        },
        {
          "output_type": "display_data",
          "data": {
            "text/plain": [
              "<Figure size 640x480 with 1 Axes>"
            ],
            "image/png": "[encoded data removed]"
          },
          "metadata": {}
        },
        {
          "output_type": "stream",
          "name": "stdout",
          "text": [
            "\n",
            "\n"
          ]
        },
        {
          "output_type": "display_data",
          "data": {
            "text/plain": [
              "<Figure size 640x480 with 1 Axes>"
            ],
            "image/png": "[encoded data removed]"
          },
          "metadata": {}
        }
      ]
    },
    {
      "cell_type": "code",
      "source": [
        "# Filter out rows with ratings 3\n",
        "df = df[df[\"Label\"].isin([1, 2, 4, 5])]\n",
        "\n",
        "# Rename the ratings\n",
        "df[\"Label\"] = df[\"Label\"].replace({5: \"POS\", 4:\"POS\", 1: \"NEG\", 2: \"NEG\"})"
      ],
      "metadata": {
        "colab": {
          "base_uri": "https://localhost:8080/"
        },
        "id": "7W1PxZ_hgU0l",
        "outputId": "8d2021fa-9a87-4cae-e0c4-7fbdd77cf689"
      },
      "execution_count": 35,
      "outputs": [
        {
          "output_type": "stream",
          "name": "stderr",
          "text": [
            "<ipython-input-35-0845cd27fa88>:5: SettingWithCopyWarning: \n",
            "A value is trying to be set on a copy of a slice from a DataFrame.\n",
            "Try using .loc[row_indexer,col_indexer] = value instead\n",
            "\n",
            "See the caveats in the documentation: https://pandas.pydata.org/pandas-docs/stable/user_guide/indexing.html#returning-a-view-versus-a-copy\n",
            "  df[\"Label\"] = df[\"Label\"].replace({5: \"POS\", 4:\"POS\", 1: \"NEG\", 2: \"NEG\"})\n"
          ]
        }
      ]
    },
    {
      "cell_type": "code",
      "source": [
        "import matplotlib.pyplot as plt\n",
        "import pandas as pd\n",
        "\n",
        "# Count sentiment occurrences\n",
        "sentiment_counts = df[\"Label\"].value_counts()\n",
        "print(\"Sentiment Distribution:\\n\", sentiment_counts)\n",
        "\n",
        "# Define colors for the 2 ratings\n",
        "colors = [\"blue\", \"red\"]\n",
        "\n",
        "# Bar Chart\n",
        "ax = sentiment_counts.plot(kind=\"bar\", color=colors)\n",
        "plt.title(\"Sentiment Distribution in LABR_PN Dataset\")\n",
        "\n",
        "# Add the exact number on top of each bar\n",
        "for i, v in enumerate(sentiment_counts):\n",
        "    ax.text(i, v + 0.05, str(v), ha='center', va='bottom', fontsize=10)  # Adjust vertical position if needed\n",
        "\n",
        "#plt.savefig(\"bar_chart_pn.png\")\n",
        "plt.show()\n",
        "\n",
        "# Pie Chart\n",
        "sentiment_counts.plot(kind=\"pie\", autopct=\"%1.1f%%\", colors=colors)\n",
        "plt.title(\"Sentiment Distribution (Pie Chart) - LABR_PN\")\n",
        "plt.ylabel(\"\")\n",
        "#plt.savefig(\"pie_chart_pn.png\")\n",
        "print(\"\\n\")\n",
        "plt.show()\n"
      ],
      "metadata": {
        "colab": {
          "base_uri": "https://localhost:8080/",
          "height": 0
        },
        "id": "jhcvd5c6hlHC",
        "outputId": "bc2a1a95-6a45-45a0-f69d-172a3d07f459"
      },
      "execution_count": 36,
      "outputs": [
        {
          "output_type": "stream",
          "name": "stdout",
          "text": [
            "Sentiment Distribution:\n",
            " Label\n",
            "POS    40528\n",
            "NEG     7881\n",
            "Name: count, dtype: int64\n"
          ]
        },
        {
          "output_type": "display_data",
          "data": {
            "text/plain": [
              "<Figure size 640x480 with 1 Axes>"
            ],
            "image/png": "[encoded data removed]"
          },
          "metadata": {}
        },
        {
          "output_type": "stream",
          "name": "stdout",
          "text": [
            "\n",
            "\n"
          ]
        },
        {
          "output_type": "display_data",
          "data": {
            "text/plain": [
              "<Figure size 640x480 with 1 Axes>"
            ],
            "image/png": "[encoded data removed]"
          },
          "metadata": {}
        }
      ]
    },
    {
      "cell_type": "code",
      "source": [
        "# Replace POS with 1 and NEG with 0 in the 'Label' column\n",
        "df[\"Label\"] = df[\"Label\"].replace({\"POS\": 1, \"NEG\": 0})\n",
        "\n",
        "# Save the new dataset\n",
        "df.to_csv(\"LABR.csv\", index=False, encoding=\"utf-8\")\n",
        "\n",
        "print(\"Updated dataset saved as LABR.csv\")\n"
      ],
      "metadata": {
        "colab": {
          "base_uri": "https://localhost:8080/"
        },
        "id": "0lkOiZW6hyEp",
        "outputId": "2f8f0a05-e4a6-4317-f600-de7472a7c18b"
      },
      "execution_count": 37,
      "outputs": [
        {
          "output_type": "stream",
          "name": "stderr",
          "text": [
            "<ipython-input-37-294788dac904>:2: FutureWarning: Downcasting behavior in `replace` is deprecated and will be removed in a future version. To retain the old behavior, explicitly call `result.infer_objects(copy=False)`. To opt-in to the future behavior, set `pd.set_option('future.no_silent_downcasting', True)`\n",
            "  df[\"Label\"] = df[\"Label\"].replace({\"POS\": 1, \"NEG\": 0})\n"
          ]
        },
        {
          "output_type": "stream",
          "name": "stdout",
          "text": [
            "Updated dataset saved as LABR.csv\n"
          ]
        }
      ]
    },
    {
      "cell_type": "markdown",
      "source": [
        "### **Pretraitement**"
      ],
      "metadata": {
        "id": "fajk1EsXcKvg"
      }
    },
    {
      "cell_type": "code",
      "execution_count": 38,
      "metadata": {
        "colab": {
          "base_uri": "https://localhost:8080/"
        },
        "outputId": "9af7ce0b-a001-4274-e0cd-4c3ea6f4ad28",
        "id": "P5DjM6yFcKvh"
      },
      "outputs": [
        {
          "output_type": "stream",
          "name": "stderr",
          "text": [
            "[nltk_data] Downloading package punkt to /root/nltk_data...\n",
            "[nltk_data]   Package punkt is already up-to-date!\n",
            "[nltk_data] Downloading package stopwords to /root/nltk_data...\n",
            "[nltk_data]   Package stopwords is already up-to-date!\n"
          ]
        },
        {
          "output_type": "execute_result",
          "data": {
            "text/plain": [
              "True"
            ]
          },
          "metadata": {},
          "execution_count": 38
        }
      ],
      "source": [
        "import pandas as pd\n",
        "import string\n",
        "import re\n",
        "from sklearn.feature_extraction.text import ENGLISH_STOP_WORDS\n",
        "from nltk.corpus import stopwords\n",
        "from nltk.stem import PorterStemmer\n",
        "from nltk.stem.isri import ISRIStemmer\n",
        "import nltk\n",
        "from nltk.tokenize import word_tokenize\n",
        "\n",
        "nltk.download('punkt')\n",
        "nltk.download('stopwords')"
      ]
    },
    {
      "cell_type": "code",
      "source": [
        "def remove_non_arabic(text):\n",
        "    if isinstance(text, str):\n",
        "        return re.sub(r'[^\\u0620-\\u064A\\s]', ' ', text)\n",
        "    return ''\n",
        "\n",
        "def tokenization(text):\n",
        "    if isinstance(text, str):\n",
        "        return re.findall(r'\\S+', text)  # Matches sequences of non-space characters\n",
        "    return []\n",
        "\n",
        "def remove_arabic_stopwords(tokens):\n",
        "    arabic_stopwords = set(stopwords.words(\"arabic\"))  # Convert to set for faster lookup\n",
        "    return [token for token in tokens if token not in arabic_stopwords]\n",
        "\n",
        "def get_root(word, stemmer):\n",
        "    if isinstance(word, str):\n",
        "        return stemmer.stem(word)\n",
        "    return word\n",
        "\n",
        "def stemming_AR(tokens):\n",
        "    stemmer = ISRIStemmer()\n",
        "    return [get_root(token, stemmer) for token in tokens]\n",
        "\n",
        "def rejoin_tokens(tokens):\n",
        "    filtered_tokens = [token for token in tokens if isinstance(token, str) and token.strip()]\n",
        "    return ' '.join(filtered_tokens)"
      ],
      "metadata": {
        "id": "u4izmgSzcKvi"
      },
      "execution_count": 39,
      "outputs": []
    },
    {
      "cell_type": "code",
      "source": [
        "def LABR_pretraitement(text):\n",
        "    if isinstance(text, str):\n",
        "\n",
        "        # Step 1: Remove non-arabic characters\n",
        "        text = remove_non_arabic(text)\n",
        "\n",
        "        # Step 2: Tokenization (split text into tokens)\n",
        "        tokens = tokenization(text)\n",
        "\n",
        "        # Step 3: Remove Arabic stopwords\n",
        "        tokens = remove_arabic_stopwords(tokens)\n",
        "\n",
        "        # Step 4: Apply stemming (ISRI Stemmer for Arabic)\n",
        "        tokens = stemming_AR(tokens)\n",
        "\n",
        "        # Step 5: Rejoin tokens into a single string\n",
        "        return rejoin_tokens(tokens)\n",
        "\n",
        "    return ''"
      ],
      "metadata": {
        "id": "1Gg0WtLIcKvi"
      },
      "execution_count": 40,
      "outputs": []
    },
    {
      "cell_type": "code",
      "source": [
        "print(f\"Start processing LABR ...\\n\")\n",
        "LABR = pd.read_csv(\"/content/LABR.csv\")\n",
        "LABR[\"Text\"] = [LABR_pretraitement(text) for text in df[\"Text\"]]\n",
        "LABR.to_csv(\"/content/LABR_Pre.csv\", index=False)\n",
        "print(f\"Finished processing LABR!\\n\")"
      ],
      "metadata": {
        "colab": {
          "base_uri": "https://localhost:8080/"
        },
        "outputId": "51b46fc3-567f-4980-a9c5-2cb6d76f4699",
        "id": "ou2GQkjrcKvj"
      },
      "execution_count": 41,
      "outputs": [
        {
          "output_type": "stream",
          "name": "stdout",
          "text": [
            "Start processing LABR ...\n",
            "\n",
            "Finished processing LABR!\n",
            "\n"
          ]
        }
      ]
    },
    {
      "cell_type": "code",
      "source": [
        "from sklearn.utils import resample\n",
        "import pandas as pd\n",
        "\n",
        "# Load your original dataset\n",
        "df = pd.read_csv('LABR_Pre.csv', encoding='utf-8-sig')\n",
        "\n",
        "# Drop NaNs\n",
        "df = df.dropna(subset=['Text']).reset_index(drop=True)\n",
        "\n",
        "# Separate classes\n",
        "df_majority = df[df['Label'] == 1]\n",
        "df_minority = df[df['Label'] == 0]\n",
        "\n",
        "# Oversample minority\n",
        "df_minority_oversampled = resample(df_minority,\n",
        "                                   replace=True,\n",
        "                                   n_samples=len(df_majority),\n",
        "                                   random_state=42)\n",
        "\n",
        "# Combine and shuffle\n",
        "df_balanced = pd.concat([df_majority, df_minority_oversampled])\n",
        "df_balanced = df_balanced.sample(frac=1, random_state=42).reset_index(drop=True)\n",
        "\n",
        "# Save to CSV\n",
        "df_balanced.to_csv('LABR_Pre_Blc.csv', index=False, encoding='utf-8-sig')\n",
        "\n",
        "print(\"Balanced text data saved to 'balanced_text_data.csv'\")"
      ],
      "metadata": {
        "id": "qs2CgN_pKvNv",
        "colab": {
          "base_uri": "https://localhost:8080/"
        },
        "outputId": "d715cebe-b84c-42a7-f1a7-0afad585b152"
      },
      "execution_count": 42,
      "outputs": [
        {
          "output_type": "stream",
          "name": "stdout",
          "text": [
            "Balanced text data saved to 'balanced_text_data.csv'\n"
          ]
        }
      ]
    },
    {
      "cell_type": "markdown",
      "source": [
        "### **Balancing**"
      ],
      "metadata": {
        "id": "PdQCAmvJcium"
      }
    },
    {
      "cell_type": "code",
      "source": [
        "from sklearn.utils import resample\n",
        "import pandas as pd\n",
        "\n",
        "# Load your original dataset\n",
        "df = pd.read_csv('LABR.csv', encoding='utf-8-sig')\n",
        "\n",
        "# Drop NaNs\n",
        "df = df.dropna(subset=['Text']).reset_index(drop=True)\n",
        "\n",
        "# Separate classes\n",
        "df_majority = df[df['Label'] == 1]\n",
        "df_minority = df[df['Label'] == 0]\n",
        "\n",
        "# Oversample minority\n",
        "df_minority_oversampled = resample(df_minority,\n",
        "                                   replace=True,\n",
        "                                   n_samples=len(df_majority),\n",
        "                                   random_state=42)\n",
        "\n",
        "# Combine and shuffle\n",
        "df_balanced = pd.concat([df_majority, df_minority_oversampled])\n",
        "df_balanced = df_balanced.sample(frac=1, random_state=42).reset_index(drop=True)\n",
        "\n",
        "# Save to CSV\n",
        "df_balanced.to_csv('LABR_Blc.csv', index=False, encoding='utf-8-sig')\n",
        "\n",
        "print(\"Balanced text data saved to 'LABR_BLC.csv'\")\n",
        "\n",
        "\n",
        "\n",
        "# Load your original dataset\n",
        "df = pd.read_csv('LABR_Pre.csv', encoding='utf-8-sig')\n",
        "\n",
        "# Drop NaNs\n",
        "df = df.dropna(subset=['Text']).reset_index(drop=True)\n",
        "\n",
        "# Separate classes\n",
        "df_majority = df[df['Label'] == 1]\n",
        "df_minority = df[df['Label'] == 0]\n",
        "\n",
        "# Oversample minority\n",
        "df_minority_oversampled = resample(df_minority,\n",
        "                                   replace=True,\n",
        "                                   n_samples=len(df_majority),\n",
        "                                   random_state=42)\n",
        "\n",
        "# Combine and shuffle\n",
        "df_balanced = pd.concat([df_majority, df_minority_oversampled])\n",
        "df_balanced = df_balanced.sample(frac=1, random_state=42).reset_index(drop=True)\n",
        "\n",
        "# Save to CSV\n",
        "df_balanced.to_csv('LABR_Pre_Blc.csv', index=False, encoding='utf-8-sig')\n",
        "\n",
        "print(\"Balanced text data saved to 'LABR_Pre_Blc.csv'\")"
      ],
      "metadata": {
        "colab": {
          "base_uri": "https://localhost:8080/"
        },
        "outputId": "8aa02bff-ee19-4ec9-f818-2f4adc229a54",
        "id": "TiodJ6Fqciun"
      },
      "execution_count": 43,
      "outputs": [
        {
          "output_type": "stream",
          "name": "stdout",
          "text": [
            "Balanced text data saved to 'LABR_BLC.csv'\n",
            "Balanced text data saved to 'LABR_Pre_Blc.csv'\n"
          ]
        }
      ]
    },
    {
      "cell_type": "markdown",
      "metadata": {
        "id": "IHr1-_ZY7Cdo"
      },
      "source": [
        "# Set up : Algorithms Functions"
      ]
    },
    {
      "cell_type": "markdown",
      "metadata": {
        "id": "0841f91d"
      },
      "source": [
        "### Libraries"
      ]
    },
    {
      "cell_type": "code",
      "execution_count": 44,
      "metadata": {
        "id": "cfbe0178"
      },
      "outputs": [],
      "source": [
        "import pandas as pd\n",
        "from sklearn.feature_extraction.text import TfidfVectorizer\n",
        "from sklearn.model_selection import train_test_split\n",
        "from sklearn.naive_bayes import MultinomialNB, ComplementNB\n",
        "from sklearn.svm import SVC, NuSVC, LinearSVC\n",
        "from sklearn.linear_model import LogisticRegression\n",
        "from sklearn.ensemble import RandomForestClassifier, AdaBoostClassifier\n",
        "from sklearn.neighbors import KNeighborsClassifier\n",
        "from sklearn.metrics import confusion_matrix, f1_score, accuracy_score\n",
        "import matplotlib.pyplot as plt\n",
        "import seaborn as sns\n",
        "import time"
      ]
    },
    {
      "cell_type": "markdown",
      "source": [
        "### **Visualisation / Metrics**"
      ],
      "metadata": {
        "id": "QtTgTq7kcjUP"
      }
    },
    {
      "cell_type": "code",
      "source": [
        "from sklearn.metrics import precision_score, recall_score, f1_score\n",
        "import matplotlib.pyplot as plt\n",
        "import seaborn as sns\n",
        "\n",
        "def analyze_and_visualize_results(confusion_matrix, y_test, y_pred, dataset_name, algorithm_name, execution_time, num_positive, num_negative):\n",
        "    TN = confusion_matrix[0][0]\n",
        "    FP = confusion_matrix[0][1]\n",
        "    FN = confusion_matrix[1][0]\n",
        "    TP = confusion_matrix[1][1]\n",
        "\n",
        "    epsilon = 1e-10\n",
        "    accuracy = (TP + TN) / (TP + TN + FP + FN + epsilon)\n",
        "\n",
        "    # Per-class metrics\n",
        "    precision_per_class = precision_score(y_test, y_pred, average=None, labels=[0, 1], zero_division=0)\n",
        "    recall_per_class = recall_score(y_test, y_pred, average=None, labels=[0, 1], zero_division=0)\n",
        "    f1_per_class = f1_score(y_test, y_pred, average=None, labels=[0, 1], zero_division=0)\n",
        "    support_0 = sum(y_test == 0)\n",
        "    support_1 = sum(y_test == 1)\n",
        "\n",
        "    # Prepare result dict (optional to return it)\n",
        "    results = {\n",
        "        \"Dataset\": dataset_name,\n",
        "        \"Algorithm\": algorithm_name,\n",
        "        \"Confusion Matrix\": confusion_matrix,\n",
        "        \"Accuracy\": round(accuracy, 4),\n",
        "        \"Precision_0\": round(precision_per_class[0], 4),\n",
        "        \"Recall_0\": round(recall_per_class[0], 4),\n",
        "        \"F1_0\": round(f1_per_class[0], 4),\n",
        "        \"Support_0\": support_0,\n",
        "        \"Precision_1\": round(precision_per_class[1], 4),\n",
        "        \"Recall_1\": round(recall_per_class[1], 4),\n",
        "        \"F1_1\": round(f1_per_class[1], 4),\n",
        "        \"Support_1\": support_1,\n",
        "        \"Number of Positive Samples\": num_positive,\n",
        "        \"Number of Negative Samples\": num_negative,\n",
        "        \"Execution Time (s)\": round(execution_time, 4)\n",
        "    }\n",
        "\n",
        "    # --- Visualization ---\n",
        "    title = f\"{dataset_name} with {algorithm_name}\"\n",
        "    fig, (ax1, ax2) = plt.subplots(1, 2, figsize=(13, 6), gridspec_kw={'width_ratios': [1, 1.1]})\n",
        "    fig.suptitle(title, fontsize=14, fontweight='bold')\n",
        "\n",
        "    sns.heatmap(confusion_matrix, annot=True, fmt='d', cmap='Blues', cbar=False, ax=ax1,\n",
        "                square=True, linewidths=0, linecolor='white')\n",
        "    ax1.set_xlabel('Predicted Label')\n",
        "    ax1.set_ylabel('True Label')\n",
        "    ax1.set_title('Confusion Matrix', fontsize=12)\n",
        "    ax1.set_xticklabels(['Negative', 'Positive'])\n",
        "    ax1.set_yticklabels(['Negative', 'Positive'])\n",
        "\n",
        "    ax2.axis('off')\n",
        "    ax2.set_title('Statistics Summary', fontsize=12, fontweight='bold', loc='left')\n",
        "\n",
        "    stats_text = [\n",
        "        f\"Accuracy: {results['Accuracy']}\",\n",
        "        f\"Execution Time: {execution_time:.2f} sec\",\n",
        "        f\"Training Positives: {num_positive}\",\n",
        "        f\"Training Negatives: {num_negative}\"\n",
        "    ]\n",
        "    y_text = 0.95\n",
        "    for line in stats_text:\n",
        "        ax2.text(0.01, y_text, line, fontsize=11, va='top')\n",
        "        y_text -= 0.07\n",
        "\n",
        "    col_labels = ['Precision', 'Recall', 'F1 Score', 'Support']\n",
        "    row_labels = ['Class 0 (Neg)', 'Class 1 (Pos)']\n",
        "    cell_data = [\n",
        "        [results['Precision_0'], results['Recall_0'], results['F1_0'], results['Support_0']],\n",
        "        [results['Precision_1'], results['Recall_1'], results['F1_1'], results['Support_1']]\n",
        "    ]\n",
        "    table = ax2.table(\n",
        "        cellText=cell_data,\n",
        "        rowLabels=row_labels,\n",
        "        colLabels=col_labels,\n",
        "        cellLoc='center',\n",
        "        colLoc='center',\n",
        "        loc='center',\n",
        "        bbox=[0.01, 0.05, 0.9, 0.3]\n",
        "    )\n",
        "    table.auto_set_font_size(False)\n",
        "    table.set_fontsize(10)\n",
        "    table.scale(0.95, 1.0)\n",
        "\n",
        "    plt.tight_layout()\n",
        "    plt.subplots_adjust(top=0.88)\n",
        "    plt.show()\n",
        "\n",
        "    return results\n"
      ],
      "metadata": {
        "id": "raag_UhHtgzi"
      },
      "execution_count": 45,
      "outputs": []
    },
    {
      "cell_type": "markdown",
      "source": [
        "### **Vectorize**"
      ],
      "metadata": {
        "id": "sAdwR2GddjRu"
      }
    },
    {
      "cell_type": "code",
      "source": [
        "import time\n",
        "import pandas as pd\n",
        "from sklearn.model_selection import train_test_split\n",
        "from sklearn.feature_extraction.text import TfidfVectorizer\n",
        "from sklearn.metrics import confusion_matrix\n",
        "\n",
        "def vectorize_text_data(csv_path, sample_percentage=1.0):\n",
        "    df = pd.read_csv(csv_path, encoding='utf-8-sig')\n",
        "    df = df[df['Text'].notna() & (df['Text'] != \"\")]\n",
        "\n",
        "    if sample_percentage < 1.0:\n",
        "        df = df.sample(frac=sample_percentage, random_state=42).reset_index(drop=True)\n",
        "\n",
        "    X = df['Text']\n",
        "    y = df['Label']\n",
        "\n",
        "    # Split Data\n",
        "    X_train, X_test, y_train, y_test = train_test_split(X, y, test_size=0.2, random_state=42)\n",
        "\n",
        "    # Vectorization\n",
        "    vectorizer = TfidfVectorizer()\n",
        "    X_train_tfidf = vectorizer.fit_transform(X_train)\n",
        "    X_test_tfidf = vectorizer.transform(X_test)\n",
        "\n",
        "    return X_train_tfidf, X_test_tfidf, y_train, y_test, df"
      ],
      "metadata": {
        "id": "JjI4IT-sdjRw"
      },
      "execution_count": 46,
      "outputs": []
    },
    {
      "cell_type": "markdown",
      "source": [
        "### **Traitement**"
      ],
      "metadata": {
        "id": "XpDeYmpilI6N"
      }
    },
    {
      "cell_type": "code",
      "source": [
        "import time\n",
        "import pandas as pd\n",
        "from sklearn.model_selection import train_test_split\n",
        "from sklearn.feature_extraction.text import TfidfVectorizer\n",
        "from sklearn.metrics import confusion_matrix\n",
        "\n",
        "def run_model_on_vectorized_data(X_train_tfidf, X_test_tfidf, y_train, y_test, df, model_class, model_name, dataset_name, model_params=None):\n",
        "    # Create and Train Model\n",
        "    model = model_class(**(model_params or {}))\n",
        "    start_time = time.time()\n",
        "    model.fit(X_train_tfidf, y_train)\n",
        "    y_pred = model.predict(X_test_tfidf)\n",
        "    execution_time = time.time() - start_time\n",
        "\n",
        "    # Confusion Matrix\n",
        "    cm = confusion_matrix(y_test, y_pred)\n",
        "\n",
        "    # Metrics\n",
        "    results = analyze_and_visualize_results(\n",
        "        confusion_matrix=cm,\n",
        "        y_test=y_test,\n",
        "        y_pred=y_pred,\n",
        "        dataset_name=dataset_name,\n",
        "        algorithm_name=model_name,\n",
        "        execution_time=execution_time,\n",
        "        num_positive=len(df[df['Label'] == 1]),\n",
        "        num_negative=len(df[df['Label'] == 0])\n",
        "    )\n",
        "\n",
        "    return results\n"
      ],
      "metadata": {
        "id": "F8jJoDTmlI6P"
      },
      "execution_count": 47,
      "outputs": []
    },
    {
      "cell_type": "markdown",
      "metadata": {
        "id": "b5a93376"
      },
      "source": [
        "### **Hyper Parameter Testing Function (one datasets)**"
      ]
    },
    {
      "cell_type": "code",
      "source": [
        "from sklearn.metrics import f1_score\n",
        "import matplotlib.pyplot as plt\n",
        "import time\n",
        "\n",
        "def test_model_with_param_from_vectorized_data(X_train_tfidf, X_test_tfidf, y_train, y_test, df, model_class, param_name, param_values, dataset_label=\"Dataset\"):\n",
        "    print(\"\\n\\n\")\n",
        "    f1_scores_class_0 = []\n",
        "    f1_scores_class_1 = []\n",
        "    avg_f1_scores = []\n",
        "    valid_param_values = []\n",
        "\n",
        "    for value in param_values:\n",
        "        try:\n",
        "            model = model_class(**{param_name: value})\n",
        "            start_time = time.time()\n",
        "            model.fit(X_train_tfidf, y_train)\n",
        "            y_pred = model.predict(X_test_tfidf)\n",
        "            exec_time = time.time() - start_time\n",
        "\n",
        "            f1_per_class = f1_score(y_test, y_pred, average=None, labels=[0, 1])\n",
        "            f1_scores_class_0.append(f1_per_class[0])\n",
        "            f1_scores_class_1.append(f1_per_class[1])\n",
        "            avg = (f1_per_class[0] + f1_per_class[1]) / 2\n",
        "            avg_f1_scores.append(avg)\n",
        "            valid_param_values.append(value)\n",
        "\n",
        "            print(f\"{param_name}: {value} | F1[0]: {round(f1_per_class[0], 4)} | F1[1]: {round(f1_per_class[1], 4)} | Avg F1: {round(avg, 4)} | Time: {round(exec_time, 4)}s\")\n",
        "\n",
        "        except Exception as e:\n",
        "            print(f\"Skipping {param_name} = {value} due to error: {e}\")\n",
        "\n",
        "    if not valid_param_values:\n",
        "        print(\" No successful parameter values to display.\")\n",
        "        return None  # Explicit return when nothing worked\n",
        "\n",
        "    # Plotting\n",
        "    plt.figure(figsize=(8, 6))\n",
        "    plt.plot(valid_param_values, f1_scores_class_0, marker='o', linestyle='--', color='red', label='F1 Score - Class 0 (Negative)')\n",
        "    plt.plot(valid_param_values, f1_scores_class_1, marker='o', linestyle='-', color='blue', label='F1 Score - Class 1 (Positive)')\n",
        "    plt.title(f'{dataset_label}\\nF1 Score vs {param_name}', fontsize=14, fontweight='bold')\n",
        "    plt.xlabel(param_name)\n",
        "    plt.ylabel('F1 Score')\n",
        "    plt.ylim(0, 1)\n",
        "    plt.grid(True)\n",
        "    plt.legend()\n",
        "    plt.tight_layout()\n",
        "    plt.show()\n",
        "\n",
        "    # Summary\n",
        "    best_idx = avg_f1_scores.index(max(avg_f1_scores))\n",
        "    best_param = valid_param_values[best_idx]\n",
        "    best_score = avg_f1_scores[best_idx]\n",
        "\n",
        "    print(f\"\\nBest {param_name} = {best_param} with Avg F1 = {round(best_score, 4)}\")\n",
        "\n",
        "    return best_param  # returns the best value"
      ],
      "metadata": {
        "id": "JChRRPbmLOYF"
      },
      "execution_count": 48,
      "outputs": []
    },
    {
      "cell_type": "markdown",
      "metadata": {
        "id": "4lHIXjr6oW5x"
      },
      "source": [
        "### **Victorize all data**"
      ]
    },
    {
      "cell_type": "code",
      "source": [
        "# === Global table to store results from all algorithms\n",
        "all_Algo_results = pd.DataFrame()\n",
        "\n",
        "# === Step 0: Load and vectorize datasets\n",
        "X_train1, X_test1, y_train1, y_test1, df1 = vectorize_text_data(\"LABR.csv\", 0.2)\n",
        "X_train2, X_test2, y_train2, y_test2, df2 = vectorize_text_data(\"LABR_Blc.csv\", 0.2)\n",
        "X_train3, X_test3, y_train3, y_test3, df3 = vectorize_text_data(\"LABR_Pre.csv\", 0.2)\n",
        "X_train4, X_test4, y_train4, y_test4, df4 = vectorize_text_data(\"LABR_Pre_Blc.csv\", 0.2)\n",
        "\n",
        "datasets = {\n",
        "    \"LABR\":                         (X_train1, X_test1, y_train1, y_test1, df1),\n",
        "    \"LABR_Balanced\":               (X_train2, X_test2, y_train2, y_test2, df2),\n",
        "    \"LABR_Preprocessed\":           (X_train3, X_test3, y_train3, y_test3, df3),\n",
        "    \"LABR_Preprocessed_Balanced\":  (X_train4, X_test4, y_train4, y_test4, df4)\n",
        "}\n"
      ],
      "metadata": {
        "id": "LEUnqLs0oW6C"
      },
      "execution_count": 49,
      "outputs": []
    },
    {
      "cell_type": "markdown",
      "metadata": {
        "id": "e446923e"
      },
      "source": [
        "# LABR Dataset - Full Comparison of 8 Algorithms"
      ]
    },
    {
      "cell_type": "markdown",
      "metadata": {
        "id": "cvZlESV_rm7m"
      },
      "source": [
        "## **Multinomial Naive Bayes**"
      ]
    },
    {
      "cell_type": "code",
      "source": [
        "from sklearn.naive_bayes import MultinomialNB\n",
        "import pandas as pd\n",
        "\n",
        "param_values = [0.0001, 0.01, 0.05, 0.1, 0.5, 1.0, 2.0, 5.0, 10.0]\n",
        "best_params = {}\n",
        "all_MNB_results = []\n",
        "\n",
        "# === Step 1: Run MultinomialNB with default alpha\n",
        "print(\"\\n=== Step 1: MultinomialNB with DEFAULT parameters ===\\n\")\n",
        "for label, (X_train, X_test, y_train, y_test, df) in datasets.items():\n",
        "    print(f\"\\n-- Running default model on {label} --\")\n",
        "    result = run_model_on_vectorized_data(\n",
        "        X_train_tfidf=X_train,\n",
        "        X_test_tfidf=X_test,\n",
        "        y_train=y_train,\n",
        "        y_test=y_test,\n",
        "        df=df,\n",
        "        model_class=MultinomialNB,\n",
        "        model_name=\"MultinomialNB (default)\",\n",
        "        dataset_name=label\n",
        "    )\n",
        "    result[\"Model Group\"] = \"MultinomialNB\"\n",
        "    all_MNB_results.append(result)\n",
        "\n",
        "# === Step 2: Hyperparameter tuning\n",
        "print(\"\\n=== Step 2: Tuning alpha for MultinomialNB ===\\n\")\n",
        "for label, (X_train, X_test, y_train, y_test, df) in datasets.items():\n",
        "    print(f\"\\n-- Tuning {label} --\")\n",
        "    best_alpha = test_model_with_param_from_vectorized_data(\n",
        "        X_train_tfidf=X_train,\n",
        "        X_test_tfidf=X_test,\n",
        "        y_train=y_train,\n",
        "        y_test=y_test,\n",
        "        df=df,\n",
        "        model_class=MultinomialNB,\n",
        "        param_name=\"alpha\",\n",
        "        param_values=param_values,\n",
        "        dataset_label=label\n",
        "    )\n",
        "    best_params[label] = best_alpha\n",
        "\n",
        "# === Step 3: Evaluate using best alpha\n",
        "print(\"\\n=== Step 3: MultinomialNB with BEST alpha ===\\n\")\n",
        "for label, (X_train, X_test, y_train, y_test, df) in datasets.items():\n",
        "    best_alpha = best_params[label]\n",
        "    print(f\"\\n-- {label} with best alpha = {best_alpha} --\")\n",
        "    result = run_model_on_vectorized_data(\n",
        "        X_train_tfidf=X_train,\n",
        "        X_test_tfidf=X_test,\n",
        "        y_train=y_train,\n",
        "        y_test=y_test,\n",
        "        df=df,\n",
        "        model_class=MultinomialNB,\n",
        "        model_name=f\"MultinomialNB (alpha={best_alpha})\",\n",
        "        dataset_name=label,\n",
        "        model_params={\"alpha\": best_alpha}\n",
        "    )\n",
        "    result[\"Model Group\"] = \"MultinomialNB\"\n",
        "    all_MNB_results.append(result)\n",
        "\n",
        "# === Save and append to global results\n",
        "results_df = pd.DataFrame(all_MNB_results)\n",
        "\n",
        "# Save to individual CSV\n",
        "results_df.to_csv(\"MultinomialNB_Results.csv\", index=False, encoding=\"utf-8-sig\")\n",
        "print(\"Results saved to 'MultinomialNB_Results.csv'\")\n",
        "\n",
        "# Append to master table for all algorithms\n",
        "all_Algo_results = pd.concat([all_Algo_results, results_df], ignore_index=True)"
      ],
      "metadata": {
        "id": "zUcuoOakAQr7"
      },
      "execution_count": null,
      "outputs": []
    },
    {
      "cell_type": "markdown",
      "metadata": {
        "id": "xdSlamspyd-Y"
      },
      "source": [
        "## **Complement Naive Bayes**"
      ]
    },
    {
      "cell_type": "code",
      "source": [
        "from sklearn.naive_bayes import ComplementNB\n",
        "\n",
        "param_values = [0.0001, 0.01, 0.05, 0.1, 0.5, 1.0, 2.0, 5.0, 10.0]\n",
        "best_params = {}\n",
        "all_CNB_results = []\n",
        "\n",
        "# === Step 1: Run ComplementNB with default alpha\n",
        "print(\"\\n=== Step 1: ComplementNB with DEFAULT parameters ===\\n\")\n",
        "for label, (X_train, X_test, y_train, y_test, df) in datasets.items():\n",
        "    print(f\"\\n-- Running default model on {label} --\")\n",
        "    result = run_model_on_vectorized_data(\n",
        "        X_train_tfidf=X_train,\n",
        "        X_test_tfidf=X_test,\n",
        "        y_train=y_train,\n",
        "        y_test=y_test,\n",
        "        df=df,\n",
        "        model_class=ComplementNB,\n",
        "        model_name=\"ComplementNB (default)\",\n",
        "        dataset_name=label\n",
        "    )\n",
        "    result[\"Model Group\"] = \"ComplementNB\"\n",
        "    all_CNB_results.append(result)\n",
        "\n",
        "# === Step 2: Hyperparameter tuning\n",
        "print(\"\\n=== Step 2: Tuning alpha for ComplementNB ===\\n\")\n",
        "for label, (X_train, X_test, y_train, y_test, df) in datasets.items():\n",
        "    print(f\"\\n-- Tuning {label} --\")\n",
        "    best_alpha = test_model_with_param_from_vectorized_data(\n",
        "        X_train_tfidf=X_train,\n",
        "        X_test_tfidf=X_test,\n",
        "        y_train=y_train,\n",
        "        y_test=y_test,\n",
        "        df=df,\n",
        "        model_class=ComplementNB,\n",
        "        param_name=\"alpha\",\n",
        "        param_values=param_values,\n",
        "        dataset_label=label\n",
        "    )\n",
        "    best_params[label] = best_alpha\n",
        "\n",
        "# === Step 3: Evaluate using best alpha\n",
        "print(\"\\n=== Step 3: ComplementNB with BEST alpha ===\\n\")\n",
        "for label, (X_train, X_test, y_train, y_test, df) in datasets.items():\n",
        "    best_alpha = best_params[label]\n",
        "    print(f\"\\n-- {label} with best alpha = {best_alpha} --\")\n",
        "    result = run_model_on_vectorized_data(\n",
        "        X_train_tfidf=X_train,\n",
        "        X_test_tfidf=X_test,\n",
        "        y_train=y_train,\n",
        "        y_test=y_test,\n",
        "        df=df,\n",
        "        model_class=ComplementNB,\n",
        "        model_name=f\"ComplementNB (alpha={best_alpha})\",\n",
        "        dataset_name=label,\n",
        "        model_params={\"alpha\": best_alpha}\n",
        "    )\n",
        "    result[\"Model Group\"] = \"ComplementNB\"\n",
        "    all_CNB_results.append(result)\n",
        "\n",
        "# === Save and append to global results\n",
        "results_df = pd.DataFrame(all_CNB_results)\n",
        "\n",
        "# Save to individual CSV\n",
        "results_df.to_csv(\"ComplementNB_Results.csv\", index=False, encoding=\"utf-8-sig\")\n",
        "print(\"Results saved to 'ComplementNB_Results.csv'\")\n",
        "\n",
        "# Append to master table for all algorithms\n",
        "all_Algo_results = pd.concat([all_Algo_results, results_df], ignore_index=True)\n"
      ],
      "metadata": {
        "id": "EgagWx8uCFy8"
      },
      "execution_count": null,
      "outputs": []
    },
    {
      "cell_type": "markdown",
      "metadata": {
        "id": "OfxZuTGOy-BV"
      },
      "source": [
        "## **SVM (Linear)**"
      ]
    },
    {
      "cell_type": "code",
      "source": [
        "from sklearn.svm import LinearSVC\n",
        "\n",
        "param_values = [0.001, 0.01, 0.1, 0.5, 1.0, 2.0, 5.0, 10.0]\n",
        "best_params = {}\n",
        "all_LinearSVC_results = []\n",
        "\n",
        "# === Step 1: LinearSVC with default C\n",
        "print(\"\\n=== Step 1: LinearSVC with DEFAULT parameters ===\\n\")\n",
        "for label, (X_train, X_test, y_train, y_test, df) in datasets.items():\n",
        "    print(f\"\\n-- Running default model on {label} --\")\n",
        "    result = run_model_on_vectorized_data(\n",
        "        X_train_tfidf=X_train,\n",
        "        X_test_tfidf=X_test,\n",
        "        y_train=y_train,\n",
        "        y_test=y_test,\n",
        "        df=df,\n",
        "        model_class=LinearSVC,\n",
        "        model_name=\"LinearSVC (default)\",\n",
        "        dataset_name=label\n",
        "    )\n",
        "    result[\"Model Group\"] = \"LinearSVC\"\n",
        "    all_LinearSVC_results.append(result)\n",
        "\n",
        "# === Step 2: Hyperparameter tuning (C)\n",
        "print(\"\\n=== Step 2: Tuning C for LinearSVC ===\\n\")\n",
        "for label, (X_train, X_test, y_train, y_test, df) in datasets.items():\n",
        "    print(f\"\\n-- Tuning {label} --\")\n",
        "    best_C = test_model_with_param_from_vectorized_data(\n",
        "        X_train_tfidf=X_train,\n",
        "        X_test_tfidf=X_test,\n",
        "        y_train=y_train,\n",
        "        y_test=y_test,\n",
        "        df=df,\n",
        "        model_class=LinearSVC,\n",
        "        param_name=\"C\",\n",
        "        param_values=param_values,\n",
        "        dataset_label=label\n",
        "    )\n",
        "    best_params[label] = best_C\n",
        "\n",
        "# === Step 3: Evaluate with best C\n",
        "print(\"\\n=== Step 3: LinearSVC with BEST C ===\\n\")\n",
        "for label, (X_train, X_test, y_train, y_test, df) in datasets.items():\n",
        "    best_C = best_params[label]\n",
        "    print(f\"\\n-- {label} with best C = {best_C} --\")\n",
        "    result = run_model_on_vectorized_data(\n",
        "        X_train_tfidf=X_train,\n",
        "        X_test_tfidf=X_test,\n",
        "        y_train=y_train,\n",
        "        y_test=y_test,\n",
        "        df=df,\n",
        "        model_class=LinearSVC,\n",
        "        model_name=f\"LinearSVC (C={best_C})\",\n",
        "        dataset_name=label,\n",
        "        model_params={\"C\": best_C}\n",
        "    )\n",
        "    result[\"Model Group\"] = \"LinearSVC\"\n",
        "    all_LinearSVC_results.append(result)\n",
        "\n",
        "# === Save and append\n",
        "results_df = pd.DataFrame(all_LinearSVC_results)\n",
        "results_df.to_csv(\"LinearSVC_Results.csv\", index=False, encoding=\"utf-8-sig\")\n",
        "print(\"Results saved to 'LinearSVC_Results.csv'\")\n",
        "all_Algo_results = pd.concat([all_Algo_results, results_df], ignore_index=True)\n"
      ],
      "metadata": {
        "id": "1go9S-9ZCnub"
      },
      "execution_count": null,
      "outputs": []
    },
    {
      "cell_type": "markdown",
      "metadata": {
        "id": "-aWy6otT0LoZ"
      },
      "source": [
        "## **SVM (NuSVC)**"
      ]
    },
    {
      "cell_type": "code",
      "source": [
        "from sklearn.svm import NuSVC\n",
        "\n",
        "param_values = [0.01, 0.1, 0.3, 0.5, 0.7, 0.9]\n",
        "best_params = {}\n",
        "all_NuSVC_results = []\n",
        "\n",
        "# === Step 1: NuSVC with default Nu\n",
        "print(\"\\n=== Step 1: NuSVC with DEFAULT parameters ===\\n\")\n",
        "for label, (X_train, X_test, y_train, y_test, df) in datasets.items():\n",
        "    print(f\"\\n-- Running default model on {label} --\")\n",
        "    result = run_model_on_vectorized_data(\n",
        "        X_train_tfidf=X_train,\n",
        "        X_test_tfidf=X_test,\n",
        "        y_train=y_train,\n",
        "        y_test=y_test,\n",
        "        df=df,\n",
        "        model_class=NuSVC,\n",
        "        model_name=\"NuSVC (default)\",\n",
        "        dataset_name=label\n",
        "    )\n",
        "    result[\"Model Group\"] = \"NuSVC\"\n",
        "    all_NuSVC_results.append(result)\n",
        "\n",
        "# === Step 2: Hyperparameter tuning (nu)\n",
        "print(\"\\n=== Step 2: Tuning nu for NuSVC ===\\n\")\n",
        "for label, (X_train, X_test, y_train, y_test, df) in datasets.items():\n",
        "    print(f\"\\n-- Tuning {label} --\")\n",
        "    best_nu = test_model_with_param_from_vectorized_data(\n",
        "        X_train_tfidf=X_train,\n",
        "        X_test_tfidf=X_test,\n",
        "        y_train=y_train,\n",
        "        y_test=y_test,\n",
        "        df=df,\n",
        "        model_class=NuSVC,\n",
        "        param_name=\"nu\",\n",
        "        param_values=param_values,\n",
        "        dataset_label=label\n",
        "    )\n",
        "    best_params[label] = best_nu\n",
        "\n",
        "# === Step 3: Evaluate with best nu\n",
        "print(\"\\n=== Step 3: NuSVC with BEST nu ===\\n\")\n",
        "for label, (X_train, X_test, y_train, y_test, df) in datasets.items():\n",
        "    best_nu = best_params[label]\n",
        "    print(f\"\\n-- {label} with best nu = {best_nu} --\")\n",
        "    result = run_model_on_vectorized_data(\n",
        "        X_train_tfidf=X_train,\n",
        "        X_test_tfidf=X_test,\n",
        "        y_train=y_train,\n",
        "        y_test=y_test,\n",
        "        df=df,\n",
        "        model_class=NuSVC,\n",
        "        model_name=f\"NuSVC (nu={best_nu})\",\n",
        "        dataset_name=label,\n",
        "        model_params={\"nu\": best_nu}\n",
        "    )\n",
        "    result[\"Model Group\"] = \"NuSVC\"\n",
        "    all_NuSVC_results.append(result)\n",
        "\n",
        "# === Save and append\n",
        "results_df = pd.DataFrame(all_NuSVC_results)\n",
        "results_df.to_csv(\"NuSVC_Results.csv\", index=False, encoding=\"utf-8-sig\")\n",
        "print(\"Results saved to 'NuSVC_Results.csv'\")\n",
        "all_Algo_results = pd.concat([all_Algo_results, results_df], ignore_index=True)\n"
      ],
      "metadata": {
        "id": "l4GTFgLWDMB2"
      },
      "execution_count": null,
      "outputs": []
    },
    {
      "cell_type": "markdown",
      "metadata": {
        "id": "QoBYdrVl0eAc"
      },
      "source": [
        "## **LogisticRegression**"
      ]
    },
    {
      "cell_type": "code",
      "source": [
        "from sklearn.linear_model import LogisticRegression\n",
        "\n",
        "param_values = [0.001, 0.01, 0.1, 0.5, 1.0, 2.0, 5.0, 10.0]\n",
        "best_params = {}\n",
        "all_LR_results = []\n",
        "\n",
        "# === Step 1: Logistic Regression with default C\n",
        "print(\"\\n=== Step 1: LogisticRegression with DEFAULT parameters ===\\n\")\n",
        "for label, (X_train, X_test, y_train, y_test, df) in datasets.items():\n",
        "    print(f\"\\n-- Running default model on {label} --\")\n",
        "    result = run_model_on_vectorized_data(\n",
        "        X_train_tfidf=X_train,\n",
        "        X_test_tfidf=X_test,\n",
        "        y_train=y_train,\n",
        "        y_test=y_test,\n",
        "        df=df,\n",
        "        model_class=LogisticRegression,\n",
        "        model_name=\"LogisticRegression (default)\",\n",
        "        dataset_name=label,\n",
        "        model_params={\"max_iter\": 1000}\n",
        "    )\n",
        "    result[\"Model Group\"] = \"LogisticRegression\"\n",
        "    all_LR_results.append(result)\n",
        "\n",
        "# === Step 2: Hyperparameter tuning (C)\n",
        "print(\"\\n=== Step 2: Tuning C for LogisticRegression ===\\n\")\n",
        "for label, (X_train, X_test, y_train, y_test, df) in datasets.items():\n",
        "    print(f\"\\n-- Tuning {label} --\")\n",
        "    best_C = test_model_with_param_from_vectorized_data(\n",
        "        X_train_tfidf=X_train,\n",
        "        X_test_tfidf=X_test,\n",
        "        y_train=y_train,\n",
        "        y_test=y_test,\n",
        "        df=df,\n",
        "        model_class=LogisticRegression,\n",
        "        param_name=\"C\",\n",
        "        param_values=param_values,\n",
        "        dataset_label=label\n",
        "    )\n",
        "    best_params[label] = best_C\n",
        "\n",
        "# === Step 3: Evaluate with best C\n",
        "print(\"\\n=== Step 3: LogisticRegression with BEST C ===\\n\")\n",
        "for label, (X_train, X_test, y_train, y_test, df) in datasets.items():\n",
        "    best_C = best_params[label]\n",
        "    print(f\"\\n-- {label} with best C = {best_C} --\")\n",
        "    result = run_model_on_vectorized_data(\n",
        "        X_train_tfidf=X_train,\n",
        "        X_test_tfidf=X_test,\n",
        "        y_train=y_train,\n",
        "        y_test=y_test,\n",
        "        df=df,\n",
        "        model_class=LogisticRegression,\n",
        "        model_name=f\"LogisticRegression (C={best_C})\",\n",
        "        dataset_name=label,\n",
        "        model_params={\"C\": best_C, \"max_iter\": 1000}\n",
        "    )\n",
        "    result[\"Model Group\"] = \"LogisticRegression\"\n",
        "    all_LR_results.append(result)\n",
        "\n",
        "# === Save and append\n",
        "results_df = pd.DataFrame(all_LR_results)\n",
        "results_df.to_csv(\"LogisticRegression_Results.csv\", index=False, encoding=\"utf-8-sig\")\n",
        "print(\"Results saved to 'LogisticRegression_Results.csv'\")\n",
        "all_Algo_results = pd.concat([all_Algo_results, results_df], ignore_index=True)\n",
        "\n"
      ],
      "metadata": {
        "id": "DE2mwrANDQCG"
      },
      "execution_count": null,
      "outputs": []
    },
    {
      "cell_type": "markdown",
      "metadata": {
        "id": "BZ-1yV8r1U6A"
      },
      "source": [
        "## **RandomForest**"
      ]
    },
    {
      "cell_type": "code",
      "source": [
        "from sklearn.ensemble import RandomForestClassifier\n",
        "\n",
        "param_values = [10, 50, 100, 200, 300, 500]\n",
        "best_params = {}\n",
        "all_RF_results = []\n",
        "\n",
        "# === Step 1: RandomForest with default n_estimators\n",
        "print(\"\\n=== Step 1: RandomForestClassifier with DEFAULT parameters ===\\n\")\n",
        "for label, (X_train, X_test, y_train, y_test, df) in datasets.items():\n",
        "    print(f\"\\n-- Running default model on {label} --\")\n",
        "    result = run_model_on_vectorized_data(\n",
        "        X_train_tfidf=X_train,\n",
        "        X_test_tfidf=X_test,\n",
        "        y_train=y_train,\n",
        "        y_test=y_test,\n",
        "        df=df,\n",
        "        model_class=RandomForestClassifier,\n",
        "        model_name=\"RandomForest (default)\",\n",
        "        dataset_name=label\n",
        "    )\n",
        "    result[\"Model Group\"] = \"RandomForest\"\n",
        "    all_RF_results.append(result)\n",
        "\n",
        "# === Step 2: Hyperparameter tuning (n_estimators)\n",
        "print(\"\\n=== Step 2: Tuning n_estimators for RandomForest ===\\n\")\n",
        "for label, (X_train, X_test, y_train, y_test, df) in datasets.items():\n",
        "    print(f\"\\n-- Tuning {label} --\")\n",
        "    best_n = test_model_with_param_from_vectorized_data(\n",
        "        X_train_tfidf=X_train,\n",
        "        X_test_tfidf=X_test,\n",
        "        y_train=y_train,\n",
        "        y_test=y_test,\n",
        "        df=df,\n",
        "        model_class=RandomForestClassifier,\n",
        "        param_name=\"n_estimators\",\n",
        "        param_values=param_values,\n",
        "        dataset_label=label\n",
        "    )\n",
        "    best_params[label] = best_n\n",
        "\n",
        "# === Step 3: Evaluation with best n_estimators\n",
        "print(\"\\n=== Step 3: RandomForestClassifier with BEST n_estimators ===\\n\")\n",
        "for label, (X_train, X_test, y_train, y_test, df) in datasets.items():\n",
        "    best_n = best_params[label]\n",
        "    print(f\"\\n-- {label} with best n_estimators = {best_n} --\")\n",
        "    result = run_model_on_vectorized_data(\n",
        "        X_train_tfidf=X_train,\n",
        "        X_test_tfidf=X_test,\n",
        "        y_train=y_train,\n",
        "        y_test=y_test,\n",
        "        df=df,\n",
        "        model_class=RandomForestClassifier,\n",
        "        model_name=f\"RandomForest (n_estimators={best_n})\",\n",
        "        dataset_name=label,\n",
        "        model_params={\"n_estimators\": best_n}\n",
        "    )\n",
        "    result[\"Model Group\"] = \"RandomForest\"\n",
        "    all_RF_results.append(result)\n",
        "\n",
        "# === Save and append\n",
        "results_df = pd.DataFrame(all_RF_results)\n",
        "results_df.to_csv(\"RandomForest_Results.csv\", index=False, encoding=\"utf-8-sig\")\n",
        "print(\"Results saved to 'RandomForest_Results.csv'\")\n",
        "all_Algo_results = pd.concat([all_Algo_results, results_df], ignore_index=True)\n"
      ],
      "metadata": {
        "id": "onmjq0hCExkX"
      },
      "execution_count": null,
      "outputs": []
    },
    {
      "cell_type": "markdown",
      "metadata": {
        "id": "UOw95w201lPr"
      },
      "source": [
        "## **KNeighborsClassifier**"
      ]
    },
    {
      "cell_type": "code",
      "source": [
        "from sklearn.neighbors import KNeighborsClassifier\n",
        "\n",
        "param_values = [1, 3, 5, 7, 9, 11, 15, 17, 19]\n",
        "best_params = {}\n",
        "all_KNN_results = []\n",
        "\n",
        "# === Step 1: KNN with default n_neighbors\n",
        "print(\"\\n=== Step 1: KNeighborsClassifier with DEFAULT parameters ===\\n\")\n",
        "for label, (X_train, X_test, y_train, y_test, df) in datasets.items():\n",
        "    print(f\"\\n-- Running default model on {label} --\")\n",
        "    result = run_model_on_vectorized_data(\n",
        "        X_train_tfidf=X_train,\n",
        "        X_test_tfidf=X_test,\n",
        "        y_train=y_train,\n",
        "        y_test=y_test,\n",
        "        df=df,\n",
        "        model_class=KNeighborsClassifier,\n",
        "        model_name=\"KNN (default)\",\n",
        "        dataset_name=label\n",
        "    )\n",
        "    result[\"Model Group\"] = \"KNN\"\n",
        "    all_KNN_results.append(result)\n",
        "\n",
        "# === Step 2: Tuning n_neighbors\n",
        "print(\"\\n=== Step 2: Tuning n_neighbors for KNN ===\\n\")\n",
        "for label, (X_train, X_test, y_train, y_test, df) in datasets.items():\n",
        "    print(f\"\\n-- Tuning {label} --\")\n",
        "    best_k = test_model_with_param_from_vectorized_data(\n",
        "        X_train_tfidf=X_train,\n",
        "        X_test_tfidf=X_test,\n",
        "        y_train=y_train,\n",
        "        y_test=y_test,\n",
        "        df=df,\n",
        "        model_class=KNeighborsClassifier,\n",
        "        param_name=\"n_neighbors\",\n",
        "        param_values=param_values,\n",
        "        dataset_label=label\n",
        "    )\n",
        "    best_params[label] = best_k\n",
        "\n",
        "# === Step 3: Evaluation with best k\n",
        "print(\"\\n=== Step 3: KNN with BEST n_neighbors ===\\n\")\n",
        "for label, (X_train, X_test, y_train, y_test, df) in datasets.items():\n",
        "    best_k = best_params[label]\n",
        "    print(f\"\\n-- {label} with best k = {best_k} --\")\n",
        "    result = run_model_on_vectorized_data(\n",
        "        X_train_tfidf=X_train,\n",
        "        X_test_tfidf=X_test,\n",
        "        y_train=y_train,\n",
        "        y_test=y_test,\n",
        "        df=df,\n",
        "        model_class=KNeighborsClassifier,\n",
        "        model_name=f\"KNN (k={best_k})\",\n",
        "        dataset_name=label,\n",
        "        model_params={\"n_neighbors\": best_k}\n",
        "    )\n",
        "    result[\"Model Group\"] = \"KNN\"\n",
        "    all_KNN_results.append(result)\n",
        "\n",
        "# === Save and append\n",
        "results_df = pd.DataFrame(all_KNN_results)\n",
        "results_df.to_csv(\"KNN_Results.csv\", index=False, encoding=\"utf-8-sig\")\n",
        "print(\"Results saved to 'KNN_Results.csv'\")\n",
        "all_Algo_results = pd.concat([all_Algo_results, results_df], ignore_index=True)\n"
      ],
      "metadata": {
        "id": "MWz7e0lYEz7l"
      },
      "execution_count": null,
      "outputs": []
    },
    {
      "cell_type": "markdown",
      "metadata": {
        "id": "LiwXKSmT1z8y"
      },
      "source": [
        "## **AdaBoostClassifier**"
      ]
    },
    {
      "cell_type": "code",
      "source": [
        "from sklearn.ensemble import AdaBoostClassifier\n",
        "\n",
        "param_values = [10, 50, 100, 200, 300, 500]\n",
        "best_params = {}\n",
        "all_ADA_results = []\n",
        "\n",
        "# === Step 1: AdaBoost with default n_estimators\n",
        "print(\"\\n=== Step 1: AdaBoostClassifier with DEFAULT parameters ===\\n\")\n",
        "for label, (X_train, X_test, y_train, y_test, df) in datasets.items():\n",
        "    print(f\"\\n-- Running default model on {label} --\")\n",
        "    result = run_model_on_vectorized_data(\n",
        "        X_train_tfidf=X_train,\n",
        "        X_test_tfidf=X_test,\n",
        "        y_train=y_train,\n",
        "        y_test=y_test,\n",
        "        df=df,\n",
        "        model_class=AdaBoostClassifier,\n",
        "        model_name=\"AdaBoost (default)\",\n",
        "        dataset_name=label\n",
        "    )\n",
        "    result[\"Model Group\"] = \"AdaBoost\"\n",
        "    all_ADA_results.append(result)\n",
        "\n",
        "# === Step 2: Hyperparameter tuning (n_estimators)\n",
        "print(\"\\n=== Step 2: Tuning n_estimators for AdaBoost ===\\n\")\n",
        "for label, (X_train, X_test, y_train, y_test, df) in datasets.items():\n",
        "    print(f\"\\n-- Tuning {label} --\")\n",
        "    best_n = test_model_with_param_from_vectorized_data(\n",
        "        X_train_tfidf=X_train,\n",
        "        X_test_tfidf=X_test,\n",
        "        y_train=y_train,\n",
        "        y_test=y_test,\n",
        "        df=df,\n",
        "        model_class=AdaBoostClassifier,\n",
        "        param_name=\"n_estimators\",\n",
        "        param_values=param_values,\n",
        "        dataset_label=label\n",
        "    )\n",
        "    best_params[label] = best_n\n",
        "\n",
        "# === Step 3: Evaluate with best n_estimators\n",
        "print(\"\\n=== Step 3: AdaBoostClassifier with BEST n_estimators ===\\n\")\n",
        "for label, (X_train, X_test, y_train, y_test, df) in datasets.items():\n",
        "    best_n = best_params[label]\n",
        "    print(f\"\\n-- {label} with best n_estimators = {best_n} --\")\n",
        "    result = run_model_on_vectorized_data(\n",
        "        X_train_tfidf=X_train,\n",
        "        X_test_tfidf=X_test,\n",
        "        y_train=y_train,\n",
        "        y_test=y_test,\n",
        "        df=df,\n",
        "        model_class=AdaBoostClassifier,\n",
        "        model_name=f\"AdaBoost (n_estimators={best_n})\",\n",
        "        dataset_name=label,\n",
        "        model_params={\"n_estimators\": best_n}\n",
        "    )\n",
        "    result[\"Model Group\"] = \"AdaBoost\"\n",
        "    all_ADA_results.append(result)\n",
        "\n",
        "# === Save and append\n",
        "results_df = pd.DataFrame(all_ADA_results)\n",
        "results_df.to_csv(\"AdaBoost_Results.csv\", index=False, encoding=\"utf-8-sig\")\n",
        "print(\"Results saved to 'AdaBoost_Results.csv'\")\n",
        "all_Algo_results = pd.concat([all_Algo_results, results_df], ignore_index=True)"
      ],
      "metadata": {
        "id": "PO0mlSAaE37U"
      },
      "execution_count": null,
      "outputs": []
    }
  ]
}